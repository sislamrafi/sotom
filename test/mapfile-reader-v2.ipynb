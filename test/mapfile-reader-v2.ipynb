{
 "cells": [
  {
   "cell_type": "code",
   "execution_count": 184,
   "metadata": {},
   "outputs": [],
   "source": [
    "import re"
   ]
  },
  {
   "cell_type": "code",
   "execution_count": 185,
   "metadata": {},
   "outputs": [],
   "source": [
    "MAP_FILE_LOCATION = \"F:\\\\Projects\\\\MicroController\\\\STM32F446RE\\\\sotom_v1\\\\build\\\\final.map\"\n",
    "MAP_FILE = open(MAP_FILE_LOCATION)\n",
    "MAP_LINES = MAP_FILE.readlines()\n",
    "MAP_LINE = \"\"\n",
    "SECTION = ''\n",
    "SUB_SECTION = ''\n",
    "FILE_NAME = ''\n",
    "VAR_TYPE=''\n",
    "PRV_ORIGIN = None\n",
    "section = []\n",
    "sub_section = []\n",
    "variables = []\n",
    "origins = []\n",
    "filename = []\n",
    "vartype = []\n",
    "lengthVar = []"
   ]
  },
  {
   "cell_type": "code",
   "execution_count": 186,
   "metadata": {},
   "outputs": [],
   "source": [
    "def isSection(line):\n",
    "    if len(line) != 0 and line.startswith('.'):\n",
    "        return True\n",
    "    else:\n",
    "        return False\n",
    "\n",
    "def isSubSection(line):\n",
    "    if len(line) != 0 and line.startswith(' ') and line.lstrip().startswith('.'):\n",
    "        return True\n",
    "    else:\n",
    "        return False\n",
    "\n",
    "\n",
    "def isValueSection(line):\n",
    "    if len(line) != 0 and line.startswith('  ') and (not line.lstrip().startswith('.') or not line.lstrip().startswith('*')):\n",
    "        return True\n",
    "    else:\n",
    "        return False"
   ]
  },
  {
   "cell_type": "code",
   "execution_count": 187,
   "metadata": {},
   "outputs": [],
   "source": [
    "for MAP_LINE in MAP_LINES:\n",
    "    \n",
    "    LINE_SPLIT = MAP_LINE.split()\n",
    "    if len(LINE_SPLIT) == 0:\n",
    "        continue\n",
    "    \n",
    "    if isSection(MAP_LINE):\n",
    "        SECTION = LINE_SPLIT[0]\n",
    "        SUB_SECTION = None\n",
    "        FILE_NAME = None\n",
    "\n",
    "    if isSubSection(MAP_LINE):\n",
    "        SUB_SECTION = LINE_SPLIT[0]\n",
    "        FILE_NAME = \"\".join(map(str,LINE_SPLIT[3:]))\n",
    "\n",
    "    if isValueSection(MAP_LINE):\n",
    "        VAR_TYPE='address'\n",
    "        SIZE=0\n",
    "        if SECTION =='.comment' or SECTION=='.ARM.attributes':\n",
    "            continue\n",
    "        origins.append(int(LINE_SPLIT[0],16))\n",
    "        \n",
    "        if PRV_ORIGIN != None:\n",
    "            SIZE = int(LINE_SPLIT[0],16)-PRV_ORIGIN\n",
    "        \n",
    "        if LINE_SPLIT[1] == '.':\n",
    "            if len(LINE_SPLIT)>=4:\n",
    "                variables.append('align:'+LINE_SPLIT[4])\n",
    "            else:\n",
    "                variables.append('unknown')\n",
    "            FILE_NAME=None\n",
    "        #found end marker\n",
    "        elif len(LINE_SPLIT)>3 and LINE_SPLIT[3]=='.':\n",
    "            variables.append(LINE_SPLIT[1])\n",
    "            FILE_NAME=None\n",
    "            VAR_TYPE='value'\n",
    "        elif len(LINE_SPLIT)>3 and LINE_SPLIT[3]=='LOADADDR':\n",
    "            variables.append(LINE_SPLIT[1])\n",
    "            FILE_NAME=None\n",
    "            VAR_TYPE='loadaddr:'+LINE_SPLIT[4]\n",
    "        else:\n",
    "            variables.append(LINE_SPLIT[1])\n",
    "\n",
    "        if PRV_ORIGIN != None:\n",
    "            if len(filename)!=0 and filename[-1] == None:\n",
    "                SIZE = 0\n",
    "            lengthVar.append(SIZE)\n",
    "        \n",
    "        section.append(SECTION)\n",
    "        sub_section.append(SUB_SECTION)\n",
    "        filename.append(FILE_NAME)\n",
    "        vartype.append(VAR_TYPE)\n",
    "        PRV_ORIGIN = int(LINE_SPLIT[0],16)\n"
   ]
  },
  {
   "cell_type": "code",
   "execution_count": 188,
   "metadata": {},
   "outputs": [],
   "source": [
    "with open('data.csv','w') as f:\n",
    "    lis=[section,sub_section,variables,origins,lengthVar,vartype,filename]\n",
    "    f.write(\"section,subsection,variable,origin,size,type,filename\\n\")\n",
    "    for x in zip(*lis):\n",
    "        f.write(\"{0},{1},{2},{3},{4},{5},{6}\\n\".format(*x))"
   ]
  }
 ],
 "metadata": {
  "kernelspec": {
   "display_name": "Python 3.9.13 64-bit",
   "language": "python",
   "name": "python3"
  },
  "language_info": {
   "codemirror_mode": {
    "name": "ipython",
    "version": 3
   },
   "file_extension": ".py",
   "mimetype": "text/x-python",
   "name": "python",
   "nbconvert_exporter": "python",
   "pygments_lexer": "ipython3",
   "version": "3.9.13"
  },
  "orig_nbformat": 4,
  "vscode": {
   "interpreter": {
    "hash": "fecf909828ff21958300fbd3b192cdcb01f35d5313b2c609ac2dd4fd1f9765a7"
   }
  }
 },
 "nbformat": 4,
 "nbformat_minor": 2
}
