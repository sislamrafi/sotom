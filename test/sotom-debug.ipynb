{
 "cells": [
  {
   "cell_type": "code",
   "execution_count": 1,
   "metadata": {},
   "outputs": [
    {
     "name": "stderr",
     "output_type": "stream",
     "text": [
      "INFO:pyocd.board.board:Target type is stm32f446retx\n",
      "INFO:pyocd.coresight.dap:DP IDR = 0x2ba01477 (v1 rev2)\n",
      "INFO:pyocd.coresight.ap:AHB-AP#0 IDR = 0x24770011 (AHB-AP var1 rev2)\n",
      "INFO:pyocd.coresight.rom_table:AHB-AP#0 Class 0x1 ROM table #0 @ 0xe00ff000 (designer=020:ST part=411)\n",
      "INFO:pyocd.coresight.rom_table:[0]<e000e000:SCS v7-M class=14 designer=43b:Arm part=00c>\n",
      "INFO:pyocd.coresight.rom_table:[1]<e0001000:DWT v7-M class=14 designer=43b:Arm part=002>\n",
      "INFO:pyocd.coresight.rom_table:[2]<e0002000:FPB v7-M class=14 designer=43b:Arm part=003>\n",
      "INFO:pyocd.coresight.rom_table:[3]<e0000000:ITM v7-M class=14 designer=43b:Arm part=001>\n",
      "INFO:pyocd.coresight.rom_table:[4]<e0040000:TPIU M4 class=9 designer=43b:Arm part=9a1 devtype=11 archid=0000 devid=ca1:0:0>\n",
      "INFO:pyocd.coresight.rom_table:[5]<e0041000:ETM M4 class=9 designer=43b:Arm part=925 devtype=13 archid=0000 devid=0:0:0>\n",
      "INFO:pyocd.coresight.cortex_m:CPU core #0 is Cortex-M4 r0p1\n",
      "INFO:pyocd.coresight.cortex_m:FPU present: FPv4-SP-D16-M\n",
      "INFO:pyocd.coresight.dwt:4 hardware watchpoints\n",
      "INFO:pyocd.coresight.fpb:6 hardware breakpoints, 4 literal comparators\n"
     ]
    }
   ],
   "source": [
    "from pyocd.core.helpers import ConnectHelper\n",
    "from pyocd.flash.file_programmer import FileProgrammer\n",
    "from pyocd.debug.elf.symbols import ELFSymbolProvider\n",
    "import inspect\n",
    "\n",
    "import logging\n",
    "logging.basicConfig(level=logging.INFO)\n",
    "\n",
    "session = ConnectHelper.session_with_chosen_probe()\n",
    "board = session.board\n",
    "target = board.target\n",
    "flash = target.memory_map.get_boot_memory()\n",
    "\n",
    "session.open()"
   ]
  },
  {
   "cell_type": "code",
   "execution_count": 22,
   "metadata": {},
   "outputs": [
    {
     "name": "stdout",
     "output_type": "stream",
     "text": [
      "[---|---|---|---|---|---|---|---|---|----]\n",
      "[========================================]\n"
     ]
    },
    {
     "name": "stderr",
     "output_type": "stream",
     "text": [
      "INFO:pyocd.flash.loader:Erased 16384 bytes (1 sector), programmed 5120 bytes (5 pages), skipped 0 bytes (0 pages) at 4.93 kB/s\n"
     ]
    }
   ],
   "source": [
    "target.reset_and_halt()\n",
    "FileProgrammer(session).program(\"F:\\\\Projects\\\\MicroController\\\\STM32F446RE\\\\sotom_v1\\\\build\\\\final.elf\")\n",
    "target.reset_and_halt()\n",
    "target.resume()\n",
    "target.reset()"
   ]
  },
  {
   "cell_type": "code",
   "execution_count": 7,
   "metadata": {},
   "outputs": [
    {
     "name": "stdout",
     "output_type": "stream",
     "text": [
      "addr:0x2000000c\n",
      "val: 0b100101\n"
     ]
    }
   ],
   "source": [
    "inspect.getsource(target.read_core_register)\n",
    "#session.close()\n",
    "session.board.unique_id\n",
    "board.name\n",
    "board.target_type\n",
    "target.get_memory_map()[3]\n",
    "\n",
    "target.elf = \"F:\\\\Projects\\\\MicroController\\\\STM32F446RE\\\\sotom_v1\\\\build\\\\final.elf\"\n",
    "provider = ELFSymbolProvider(target.elf)\n",
    "addr = provider.get_symbol_value(\"DEBUG_BUTTON\")\n",
    "\n",
    "print('addr:'+hex(addr))\n",
    "sp = target.read16(addr)\n",
    "print(\"val: \"+bin(sp))\n"
   ]
  },
  {
   "cell_type": "code",
   "execution_count": null,
   "metadata": {},
   "outputs": [],
   "source": []
  },
  {
   "cell_type": "code",
   "execution_count": 3,
   "metadata": {},
   "outputs": [
    {
     "name": "stdout",
     "output_type": "stream",
     "text": [
      "524288 : 131072 537001983\n"
     ]
    }
   ],
   "source": [
    "FlashTotal=0\n",
    "SRamTotal=0\n",
    "SRamEnd = 0\n",
    "for m in target.get_memory_map():\n",
    "    if str(m.type) == 'MemoryType.FLASH':\n",
    "        FlashTotal += m.length\n",
    "    if str(m.type) == 'MemoryType.RAM':\n",
    "        SRamTotal += m.length\n",
    "        SRamEnd = m.end\n",
    "\n",
    "print(str(FlashTotal)+ \" : \" +str(SRamTotal)+ ' ' +str(SRamEnd))"
   ]
  },
  {
   "cell_type": "code",
   "execution_count": 10,
   "metadata": {},
   "outputs": [
    {
     "name": "stdout",
     "output_type": "stream",
     "text": [
      "0x8000b01\n",
      "0x2001fffc__:4294967295\n",
      "0x2001fff8__:0\n",
      "0x2001fff4__:536870952\n",
      "0x2001fff0__:134220980\n",
      "0x2001ffec__:4\n",
      "0x2001ffe8__:36\n",
      "0x2001ffe4__:36\n",
      "0x2001ffe0__:2510418743\n",
      "0x2001ffdc__:134220693\n",
      "0x2001ffd8__:537001952\n",
      "0x2001ffd4__:6612370\n",
      "0x2001ffd0__:56\n",
      "0x2001ffcc__:56\n",
      "0x2001ffc8__:56\n",
      "0x2001ffc4__:56\n",
      "0x2001ffc0__:56\n",
      "0x2001ffbc__:56\n",
      "0x2001ffb8__:56\n",
      "0x2001ffb4__:56\n",
      "0x2001ffb0__:56\n",
      "0x2001ffac__:56\n",
      "0x2001ffa8__:56\n",
      "0x2001ffa4__:56\n",
      "0x2001ffa0__:56\n",
      "0x2001ff9c__:56\n",
      "0x2001ff98__:56\n",
      "0x2001ff94__:56\n",
      "0x2001ff90__:56\n",
      "0x2001ff8c__:56\n",
      "0x2001ff88__:56\n",
      "0x2001ff84__:56\n",
      "0x2001ff80__:56\n",
      "0x2001ff7c__:56\n",
      "0x2001ff78__:56\n",
      "0x2001ff74__:56\n",
      "0x2001ff70__:56\n",
      "0x2001ff6c__:56\n",
      "0x2001ff68__:56\n",
      "0x2001ff64__:56\n",
      "0x2001ff60__:56\n",
      "0x2001ff5c__:56\n",
      "0x2001ff58__:56\n",
      "0x2001ff54__:56\n",
      "0x2001ff50__:56\n",
      "0x2001ff4c__:56\n",
      "0x2001ff48__:56\n",
      "0x2001ff44__:56\n",
      "0x2001ff40__:56\n",
      "0x2001ff3c__:56\n",
      "0x2001ff38__:56\n",
      "0x2001ff34__:56\n",
      "0x2001ff30__:56\n",
      "0x2001ff2c__:56\n",
      "0x2001ff28__:56\n",
      "0x2001ff24__:56\n",
      "0x2001ff20__:56\n",
      "0x2001ff1c__:56\n",
      "0x2001ff18__:56\n",
      "0x2001ff14__:56\n",
      "0x2001ff10__:56\n",
      "0x2001ff0c__:56\n",
      "0x2001ff08__:56\n",
      "0x2001ff04__:56\n",
      "0x2001ff00__:56\n",
      "0x2001fefc__:56\n",
      "0x2001fef8__:56\n",
      "0x2001fef4__:56\n",
      "0x2001fef0__:56\n",
      "0x2001feec__:56\n",
      "0x2001fee8__:56\n",
      "0x2001fee4__:56\n",
      "0x2001fee0__:56\n",
      "0x2001fedc__:56\n",
      "0x2001fed8__:56\n",
      "0x2001fed4__:56\n",
      "0x2001fed0__:56\n",
      "0x2001fecc__:56\n",
      "0x2001fec8__:56\n",
      "0x2001fec4__:56\n",
      "0x2001fec0__:56\n",
      "0x2001febc__:56\n",
      "0x2001feb8__:56\n",
      "0x2001feb4__:56\n",
      "0x2001feb0__:56\n",
      "0x2001feac__:56\n",
      "0x2001fea8__:56\n",
      "0x2001fea4__:56\n",
      "0x2001fea0__:56\n",
      "0x2001fe9c__:56\n",
      "0x2001fe98__:56\n",
      "0x2001fe94__:56\n",
      "0x2001fe90__:56\n",
      "0x2001fe8c__:56\n",
      "0x2001fe88__:56\n",
      "0x2001fe84__:56\n",
      "0x2001fe80__:56\n",
      "0x2001fe7c__:56\n",
      "0x2001fe78__:56\n",
      "0x2001fe74__:56\n",
      "0x2001fe70__:56\n",
      "0x2001fe6c__:56\n",
      "0x2001fe68__:56\n",
      "0x2001fe64__:56\n",
      "0x2001fe60__:56\n",
      "0x2001fe5c__:56\n",
      "0x2001fe58__:56\n",
      "0x2001fe54__:56\n",
      "0x2001fe50__:56\n",
      "0x2001fe4c__:56\n",
      "0x2001fe48__:56\n",
      "0x2001fe44__:56\n",
      "0x2001fe40__:1832570534\n",
      "0x2001fe3c__:537001536\n",
      "0x2001fe38__:537001536\n",
      "0x2001fe34__:31\n",
      "0x2001fe30__:537001528\n",
      "0x2001fe2c__:134220908\n",
      "0x2001fe28__:16974176\n",
      "0x2001fe24__:134219853\n",
      "0x2001fe20__:537001512\n",
      "0x2001fe1c__:36243599\n",
      "0x2001fe18__:537001504\n",
      "0x2001fe14__:700448769\n",
      "0x2001fe10__:537001496\n",
      "0x2001fe0c__:134219799\n",
      "0x2001fe08__:537001488\n",
      "0x2001fe04__:103351472\n",
      "0x2001fe00__:3380522838\n",
      "0x2001fdfc__:537001472\n",
      "0x2001fdf8__:537001472\n",
      "0x2001fdf4__:1200\n",
      "0x2001fdf0__:537001464\n",
      "0x2001fdec__:1187030195\n",
      "0x2001fde8__:2840961620\n",
      "0x2001fde4__:134219799\n",
      "0x2001fde0__:537001448\n",
      "0x2001fddc__:105252016\n",
      "0x2001fdd8__:2061859882\n",
      "0x2001fdd4__:537001432\n",
      "0x2001fdd0__:3428817327\n",
      "0x2001fdcc__:1200\n",
      "0x2001fdc8__:3992725238\n",
      "0x2001fdc4__:2466399819\n",
      "0x2001fdc0__:3726738294\n",
      "0x2001fdbc__:669980030\n",
      "0x2001fdb8__:2413369254\n",
      "0x2001fdb4__:4043571040\n",
      "0x2001fdb0__:3081199249\n",
      "0x2001fdac__:2451274897\n",
      "0x2001fda8__:4084134299\n",
      "0x2001fda4__:3331898541\n",
      "0x2001fda0__:1758971483\n",
      "0x2001fd9c__:476500770\n",
      "0x2001fd98__:3214303004\n",
      "0x2001fd94__:3640885837\n",
      "0x2001fd90__:2336926167\n",
      "0x2001fd8c__:3163075224\n",
      "0x2001fd88__:2843526729\n",
      "0x2001fd84__:196705030\n",
      "0x2001fd80__:3488326359\n",
      "0x2001fd7c__:3418829284\n",
      "0x2001fd78__:2880048469\n",
      "0x2001fd74__:581500358\n",
      "0x2001fd70__:1881817084\n",
      "0x2001fd6c__:2897169681\n",
      "0x2001fd68__:1824813529\n",
      "0x2001fd64__:2430286917\n",
      "0x2001fd60__:752800814\n",
      "0x2001fd5c__:337938752\n",
      "0x2001fd58__:3123830764\n",
      "0x2001fd54__:2628765711\n",
      "0x2001fd50__:2877454652\n",
      "0x2001fd4c__:1978916864\n",
      "0x2001fd48__:95898414\n",
      "0x2001fd44__:3736277023\n",
      "0x2001fd40__:2957699920\n",
      "0x2001fd3c__:2952364500\n",
      "0x2001fd38__:3906445995\n",
      "0x2001fd34__:271070375\n",
      "0x2001fd30__:1994782486\n",
      "0x2001fd2c__:1049596274\n",
      "0x2001fd28__:3796759226\n",
      "0x2001fd24__:2196580881\n",
      "0x2001fd20__:3915720348\n",
      "0x2001fd1c__:3666123705\n",
      "0x2001fd18__:2407364286\n",
      "0x2001fd14__:4011882956\n",
      "0x2001fd10__:3078567420\n",
      "0x2001fd0c__:3011790956\n",
      "0x2001fd08__:3606886685\n",
      "0x2001fd04__:2798024638\n",
      "0x2001fd00__:368387007\n",
      "0x2001fcfc__:4060946832\n",
      "0x2001fcf8__:854931764\n",
      "0x2001fcf4__:3578993209\n",
      "0x2001fcf0__:2309731859\n",
      "0x2001fcec__:3426079818\n",
      "0x2001fce8__:555566329\n",
      "0x2001fce4__:1934006792\n",
      "0x2001fce0__:2019568255\n",
      "0x2001fcdc__:1628855178\n",
      "Stack Pointer: 0x20020000\n"
     ]
    }
   ],
   "source": [
    "\n",
    "a = target.read32(0x00000010)\n",
    "print(hex(a))\n",
    "\n",
    "for i in range(201):\n",
    "    a = target.read32(0x20020000-0x4-0x4*i)\n",
    "    print(str(hex(0x20020000-0x4-0x4*i))+'__:'+str(a))\n",
    "\n",
    "a = target.read32(0x0)\n",
    "print(\"Stack Pointer: \"+hex(a))"
   ]
  },
  {
   "cell_type": "code",
   "execution_count": 97,
   "metadata": {},
   "outputs": [
    {
     "name": "stdout",
     "output_type": "stream",
     "text": [
      "R0 : 0x4b0\n",
      "R1 : 0xe000e100\n",
      "R2 : 0x8000c60\n",
      "R3 : 0x0\n",
      "R4 : 0x0\n",
      "R5 : 0x0\n",
      "R6 : 0x0\n",
      "R7 : 0x2001fe40\n",
      "R8 : 0x0\n",
      "R9 : 0x0\n",
      "R10 : 0x0\n",
      "R11 : 0x0\n",
      "R12 : 0x0\n",
      "R13 : 0x2001fe40\n",
      "R14 : 0x80007e7\n",
      "R15 : 0x80009a0\n",
      "R16 : 0x1000000\n",
      "R17 : 0x2001fe40\n",
      "R18 : 0x0\n"
     ]
    },
    {
     "ename": "KeyError",
     "evalue": "'unknown core register 19'",
     "output_type": "error",
     "traceback": [
      "\u001b[1;31m---------------------------------------------------------------------------\u001b[0m",
      "\u001b[1;31mKeyError\u001b[0m                                  Traceback (most recent call last)",
      "File \u001b[1;32mc:\\Users\\sislamrafi\\AppData\\Local\\Programs\\Python\\Python39\\lib\\site-packages\\pyocd\\core\\core_registers.py:71\u001b[0m, in \u001b[0;36mCoreRegisterInfo.get\u001b[1;34m(cls, reg)\u001b[0m\n\u001b[0;32m     70\u001b[0m     \u001b[39melse\u001b[39;00m:\n\u001b[1;32m---> 71\u001b[0m         \u001b[39mreturn\u001b[39;00m \u001b[39mcls\u001b[39;49m\u001b[39m.\u001b[39;49m_INDEX_MAP[reg]\n\u001b[0;32m     72\u001b[0m \u001b[39mexcept\u001b[39;00m \u001b[39mKeyError\u001b[39;00m \u001b[39mas\u001b[39;00m err:\n",
      "\u001b[1;31mKeyError\u001b[0m: 19",
      "\nThe above exception was the direct cause of the following exception:\n",
      "\u001b[1;31mKeyError\u001b[0m                                  Traceback (most recent call last)",
      "\u001b[1;32mf:\\Projects\\MicroController\\STM32F446RE\\SOTOM\\sotom-debug.ipynb Cell 5\u001b[0m in \u001b[0;36m<cell line: 3>\u001b[1;34m()\u001b[0m\n\u001b[0;32m      <a href='vscode-notebook-cell:/f%3A/Projects/MicroController/STM32F446RE/SOTOM/sotom-debug.ipynb#ch0000005?line=0'>1</a>\u001b[0m target\u001b[39m.\u001b[39mhalt()\n\u001b[0;32m      <a href='vscode-notebook-cell:/f%3A/Projects/MicroController/STM32F446RE/SOTOM/sotom-debug.ipynb#ch0000005?line=2'>3</a>\u001b[0m \u001b[39mfor\u001b[39;00m i \u001b[39min\u001b[39;00m \u001b[39mrange\u001b[39m(\u001b[39m32\u001b[39m):\n\u001b[1;32m----> <a href='vscode-notebook-cell:/f%3A/Projects/MicroController/STM32F446RE/SOTOM/sotom-debug.ipynb#ch0000005?line=3'>4</a>\u001b[0m     hh \u001b[39m=\u001b[39m target\u001b[39m.\u001b[39;49mread_core_register_raw(i)\n\u001b[0;32m      <a href='vscode-notebook-cell:/f%3A/Projects/MicroController/STM32F446RE/SOTOM/sotom-debug.ipynb#ch0000005?line=4'>5</a>\u001b[0m     \u001b[39mprint\u001b[39m(\u001b[39m'\u001b[39m\u001b[39mR\u001b[39m\u001b[39m'\u001b[39m\u001b[39m+\u001b[39m\u001b[39mstr\u001b[39m(i)\u001b[39m+\u001b[39m\u001b[39m'\u001b[39m\u001b[39m : \u001b[39m\u001b[39m'\u001b[39m\u001b[39m+\u001b[39m\u001b[39mhex\u001b[39m(hh))\n",
      "File \u001b[1;32mc:\\Users\\sislamrafi\\AppData\\Local\\Programs\\Python\\Python39\\lib\\site-packages\\pyocd\\core\\soc_target.py:226\u001b[0m, in \u001b[0;36mSoCTarget.read_core_register_raw\u001b[1;34m(self, reg)\u001b[0m\n\u001b[0;32m    225\u001b[0m \u001b[39mdef\u001b[39;00m \u001b[39mread_core_register_raw\u001b[39m(\u001b[39mself\u001b[39m, reg: \u001b[39m\"\u001b[39m\u001b[39mCoreRegisterNameOrNumberType\u001b[39m\u001b[39m\"\u001b[39m) \u001b[39m-\u001b[39m\u001b[39m>\u001b[39m \u001b[39mint\u001b[39m:\n\u001b[1;32m--> 226\u001b[0m     \u001b[39mreturn\u001b[39;00m \u001b[39mself\u001b[39;49m\u001b[39m.\u001b[39;49mselected_core_or_raise\u001b[39m.\u001b[39;49mread_core_register_raw(reg)\n",
      "File \u001b[1;32mc:\\Users\\sislamrafi\\AppData\\Local\\Programs\\Python\\Python39\\lib\\site-packages\\pyocd\\coresight\\cortex_m.py:1005\u001b[0m, in \u001b[0;36mCortexM.read_core_register_raw\u001b[1;34m(self, reg)\u001b[0m\n\u001b[0;32m    991\u001b[0m \u001b[39mdef\u001b[39;00m \u001b[39mread_core_register_raw\u001b[39m(\u001b[39mself\u001b[39m, reg):\n\u001b[0;32m    992\u001b[0m     \u001b[39m\"\"\"@brief Read a core register without type conversion.\u001b[39;00m\n\u001b[0;32m    993\u001b[0m \n\u001b[0;32m    994\u001b[0m \u001b[39m    The core must be halted or reads will fail.\u001b[39;00m\n\u001b[1;32m   (...)\u001b[0m\n\u001b[0;32m   1003\u001b[0m \u001b[39m        read the register.\u001b[39;00m\n\u001b[0;32m   1004\u001b[0m \u001b[39m    \"\"\"\u001b[39;00m\n\u001b[1;32m-> 1005\u001b[0m     vals \u001b[39m=\u001b[39m \u001b[39mself\u001b[39;49m\u001b[39m.\u001b[39;49mread_core_registers_raw([reg])\n\u001b[0;32m   1006\u001b[0m     \u001b[39mreturn\u001b[39;00m vals[\u001b[39m0\u001b[39m]\n",
      "File \u001b[1;32mc:\\Users\\sislamrafi\\AppData\\Local\\Programs\\Python\\Python39\\lib\\site-packages\\pyocd\\coresight\\cortex_m.py:1025\u001b[0m, in \u001b[0;36mCortexM.read_core_registers_raw\u001b[1;34m(self, reg_list)\u001b[0m\n\u001b[0;32m   1023\u001b[0m \u001b[39m# convert to index only\u001b[39;00m\n\u001b[0;32m   1024\u001b[0m reg_list \u001b[39m=\u001b[39m [CortexMCoreRegisterInfo\u001b[39m.\u001b[39mregister_name_to_index(reg) \u001b[39mfor\u001b[39;00m reg \u001b[39min\u001b[39;00m reg_list]\n\u001b[1;32m-> 1025\u001b[0m \u001b[39mself\u001b[39;49m\u001b[39m.\u001b[39;49mcheck_reg_list(reg_list)\n\u001b[0;32m   1026\u001b[0m \u001b[39mreturn\u001b[39;00m \u001b[39mself\u001b[39m\u001b[39m.\u001b[39m_base_read_core_registers_raw(reg_list)\n",
      "File \u001b[1;32mc:\\Users\\sislamrafi\\AppData\\Local\\Programs\\Python\\Python39\\lib\\site-packages\\pyocd\\coresight\\cortex_m.py:967\u001b[0m, in \u001b[0;36mCortexM.check_reg_list\u001b[1;34m(self, reg_list)\u001b[0m\n\u001b[0;32m    963\u001b[0m \u001b[39mfor\u001b[39;00m reg \u001b[39min\u001b[39;00m reg_list:\n\u001b[0;32m    964\u001b[0m     \u001b[39mif\u001b[39;00m reg \u001b[39mnot\u001b[39;00m \u001b[39min\u001b[39;00m \u001b[39mself\u001b[39m\u001b[39m.\u001b[39mcore_registers\u001b[39m.\u001b[39mby_index:\n\u001b[0;32m    965\u001b[0m         \u001b[39m# Invalid register, try to give useful error. An invalid name will already\u001b[39;00m\n\u001b[0;32m    966\u001b[0m         \u001b[39m# have raised a KeyError above.\u001b[39;00m\n\u001b[1;32m--> 967\u001b[0m         info \u001b[39m=\u001b[39m CortexMCoreRegisterInfo\u001b[39m.\u001b[39;49mget(reg)\n\u001b[0;32m    968\u001b[0m         \u001b[39mif\u001b[39;00m info\u001b[39m.\u001b[39mis_fpu_register \u001b[39mand\u001b[39;00m (\u001b[39mnot\u001b[39;00m \u001b[39mself\u001b[39m\u001b[39m.\u001b[39mhas_fpu):\n\u001b[0;32m    969\u001b[0m             \u001b[39mraise\u001b[39;00m \u001b[39mKeyError\u001b[39;00m(\u001b[39m\"\u001b[39m\u001b[39mattempt to read FPU register \u001b[39m\u001b[39m%s\u001b[39;00m\u001b[39m without FPU\u001b[39m\u001b[39m\"\u001b[39m, info\u001b[39m.\u001b[39mname)\n",
      "File \u001b[1;32mc:\\Users\\sislamrafi\\AppData\\Local\\Programs\\Python\\Python39\\lib\\site-packages\\pyocd\\coresight\\cortex_m_core_registers.py:70\u001b[0m, in \u001b[0;36mCortexMCoreRegisterInfo.get\u001b[1;34m(cls, reg)\u001b[0m\n\u001b[0;32m     63\u001b[0m \u001b[39m@classmethod\u001b[39m\n\u001b[0;32m     64\u001b[0m \u001b[39mdef\u001b[39;00m \u001b[39mget\u001b[39m(\u001b[39mcls\u001b[39m, reg: \u001b[39m\"\u001b[39m\u001b[39mCoreRegisterNameOrNumberType\u001b[39m\u001b[39m\"\u001b[39m) \u001b[39m-\u001b[39m\u001b[39m>\u001b[39m \u001b[39m\"\u001b[39m\u001b[39mCortexMCoreRegisterInfo\u001b[39m\u001b[39m\"\u001b[39m:\n\u001b[0;32m     65\u001b[0m     \u001b[39m\"\"\"@brief Return the CoreRegisterInfo instance for a register.\u001b[39;00m\n\u001b[0;32m     66\u001b[0m \u001b[39m    @param reg Either a register name or internal register number.\u001b[39;00m\n\u001b[0;32m     67\u001b[0m \u001b[39m    @return CoreRegisterInfo\u001b[39;00m\n\u001b[0;32m     68\u001b[0m \u001b[39m    @exception KeyError\u001b[39;00m\n\u001b[0;32m     69\u001b[0m \u001b[39m    \"\"\"\u001b[39;00m\n\u001b[1;32m---> 70\u001b[0m     \u001b[39mreturn\u001b[39;00m cast(CortexMCoreRegisterInfo, \u001b[39msuper\u001b[39;49m()\u001b[39m.\u001b[39;49mget(reg))\n",
      "File \u001b[1;32mc:\\Users\\sislamrafi\\AppData\\Local\\Programs\\Python\\Python39\\lib\\site-packages\\pyocd\\core\\core_registers.py:73\u001b[0m, in \u001b[0;36mCoreRegisterInfo.get\u001b[1;34m(cls, reg)\u001b[0m\n\u001b[0;32m     71\u001b[0m         \u001b[39mreturn\u001b[39;00m \u001b[39mcls\u001b[39m\u001b[39m.\u001b[39m_INDEX_MAP[reg]\n\u001b[0;32m     72\u001b[0m \u001b[39mexcept\u001b[39;00m \u001b[39mKeyError\u001b[39;00m \u001b[39mas\u001b[39;00m err:\n\u001b[1;32m---> 73\u001b[0m     \u001b[39mraise\u001b[39;00m \u001b[39mKeyError\u001b[39;00m(\u001b[39m'\u001b[39m\u001b[39munknown core register \u001b[39m\u001b[39m%s\u001b[39;00m\u001b[39m'\u001b[39m \u001b[39m%\u001b[39m reg) \u001b[39mfrom\u001b[39;00m \u001b[39merr\u001b[39;00m\n",
      "\u001b[1;31mKeyError\u001b[0m: 'unknown core register 19'"
     ]
    }
   ],
   "source": [
    "target.halt()\n",
    "\n",
    "for i in range(32):\n",
    "    hh = target.read_core_register_raw(i)\n",
    "    print('R'+str(i)+' : '+hex(hh))"
   ]
  },
  {
   "cell_type": "code",
   "execution_count": 5,
   "metadata": {},
   "outputs": [
    {
     "data": {
      "text/plain": [
       "'0x2001fe40'"
      ]
     },
     "execution_count": 5,
     "metadata": {},
     "output_type": "execute_result"
    }
   ],
   "source": [
    "target.halt()\n",
    "o = 0\n",
    "hh = target.read_core_register('msp')\n",
    "hex(hh)"
   ]
  },
  {
   "cell_type": "code",
   "execution_count": 6,
   "metadata": {},
   "outputs": [
    {
     "data": {
      "text/plain": [
       "'HALTED'"
      ]
     },
     "execution_count": 6,
     "metadata": {},
     "output_type": "execute_result"
    }
   ],
   "source": [
    "target.halt()\n",
    "a = target.get_state()\n",
    "\n",
    "a.name\n",
    "target.rea"
   ]
  },
  {
   "cell_type": "markdown",
   "metadata": {},
   "source": []
  }
 ],
 "metadata": {
  "kernelspec": {
   "display_name": "Python 3.9.13 64-bit",
   "language": "python",
   "name": "python3"
  },
  "language_info": {
   "codemirror_mode": {
    "name": "ipython",
    "version": 3
   },
   "file_extension": ".py",
   "mimetype": "text/x-python",
   "name": "python",
   "nbconvert_exporter": "python",
   "pygments_lexer": "ipython3",
   "version": "3.9.13"
  },
  "orig_nbformat": 4,
  "vscode": {
   "interpreter": {
    "hash": "fecf909828ff21958300fbd3b192cdcb01f35d5313b2c609ac2dd4fd1f9765a7"
   }
  }
 },
 "nbformat": 4,
 "nbformat_minor": 2
}
